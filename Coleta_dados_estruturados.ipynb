{
 "cells": [
  {
   "cell_type": "markdown",
   "id": "08cb3554-8cd2-4525-afa4-a104ee86a0f7",
   "metadata": {},
   "source": [
    "# Coleta de dados estruturados\n",
    "Os dados estruturados são provenientes de estruturas definidas, inflexível, pensadas antes mesmo da própria criação dos dados. Exemplo de dados estruturados: Tabelas de bancos de dados, planilhas eletrônicas, arquivos de textos como txt e csv.\n",
    "\n",
    "Nesse exercício vamos iniciar a coleta de dados proveniente de arquivos de texto disponibilizado no site do Kaggle.\n",
    "\n",
    "A base de dados está disponível no seguinte link: https://www.kaggle.com/datasets/gpreda/covid-world-vaccination-progress"
   ]
  },
  {
   "cell_type": "code",
   "execution_count": 1,
   "id": "31481273-204e-4697-802c-9ef014c7a2c4",
   "metadata": {},
   "outputs": [],
   "source": [
    "# Antes de iniciar a coleta dos dados vamos importar as bibliotecas necessárias.\n",
    "import pandas as pd\n",
    "import os"
   ]
  },
  {
   "cell_type": "markdown",
   "id": "fab041f8-aaa3-46c4-aaf1-903f2340b1d7",
   "metadata": {},
   "source": [
    "# Importando dados do arquivo\n",
    "\n",
    "O primeiro passo é encontrar o local aonde o arquivo a ser trabalhado vai estar armazenado. Após isso, vamos abrir-lo e em seguida vamos adiciona-lo dentro de um dataframe do pandas."
   ]
  },
  {
   "cell_type": "code",
   "execution_count": 2,
   "id": "de79fab6-1541-4952-8b50-e88fdbae016a",
   "metadata": {},
   "outputs": [],
   "source": [
    "DIRETORIO = 'C:\\\\workspace\\\\workspace-xpe\\\\Projetos\\\\coleta_dados_estruturados\\\\datasets'\n",
    "arquivo = 'country_vaccinations.csv'\n",
    "dados = os.path.join(DIRETORIO, arquivo)"
   ]
  },
  {
   "cell_type": "markdown",
   "id": "a3f81314-8daf-4cfa-a02f-fc19209094e4",
   "metadata": {},
   "source": [
    "Verifica o caminho do diretorio que o arquivo esta salvo"
   ]
  },
  {
   "cell_type": "code",
   "execution_count": 3,
   "id": "25149b98-37b5-41fa-8a21-9c66f4b71625",
   "metadata": {},
   "outputs": [
    {
     "data": {
      "text/plain": [
       "'C:\\\\workspace\\\\workspace-xpe\\\\Projetos\\\\coleta_dados_estruturados\\\\datasets\\\\country_vaccinations.csv'"
      ]
     },
     "execution_count": 3,
     "metadata": {},
     "output_type": "execute_result"
    }
   ],
   "source": [
    "dados"
   ]
  },
  {
   "cell_type": "markdown",
   "id": "137a5146-463c-4f1d-91ef-a35486523462",
   "metadata": {},
   "source": [
    "Agora vamos criar um data frame no pandas e ler o arquivo na pasta de origem. Para abrir o arquivo vamos utilizar o comando read_csv e utilizar o separados ',' de acordo com o dado fornecido. Além disso, temos que utilizar o encoding informando a codificação do arquivo."
   ]
  },
  {
   "cell_type": "code",
   "execution_count": 4,
   "id": "fc74cb9e-efde-481d-977e-369a4fae8a74",
   "metadata": {},
   "outputs": [],
   "source": [
    "dataframe = pd.read_csv(dados, sep = ',', encoding = 'latin-1')"
   ]
  },
  {
   "cell_type": "code",
   "execution_count": 5,
   "id": "76ff020f-8b51-4c3b-9ac9-95c9669d0855",
   "metadata": {},
   "outputs": [
    {
     "data": {
      "text/html": [
       "<div>\n",
       "<style scoped>\n",
       "    .dataframe tbody tr th:only-of-type {\n",
       "        vertical-align: middle;\n",
       "    }\n",
       "\n",
       "    .dataframe tbody tr th {\n",
       "        vertical-align: top;\n",
       "    }\n",
       "\n",
       "    .dataframe thead th {\n",
       "        text-align: right;\n",
       "    }\n",
       "</style>\n",
       "<table border=\"1\" class=\"dataframe\">\n",
       "  <thead>\n",
       "    <tr style=\"text-align: right;\">\n",
       "      <th></th>\n",
       "      <th>country</th>\n",
       "      <th>iso_code</th>\n",
       "      <th>date</th>\n",
       "      <th>total_vaccinations</th>\n",
       "      <th>people_vaccinated</th>\n",
       "      <th>people_fully_vaccinated</th>\n",
       "      <th>daily_vaccinations_raw</th>\n",
       "      <th>daily_vaccinations</th>\n",
       "      <th>total_vaccinations_per_hundred</th>\n",
       "      <th>people_vaccinated_per_hundred</th>\n",
       "      <th>people_fully_vaccinated_per_hundred</th>\n",
       "      <th>daily_vaccinations_per_million</th>\n",
       "      <th>vaccines</th>\n",
       "      <th>source_name</th>\n",
       "      <th>source_website</th>\n",
       "    </tr>\n",
       "  </thead>\n",
       "  <tbody>\n",
       "    <tr>\n",
       "      <th>0</th>\n",
       "      <td>Afghanistan</td>\n",
       "      <td>AFG</td>\n",
       "      <td>2021-02-22</td>\n",
       "      <td>0.0</td>\n",
       "      <td>0.0</td>\n",
       "      <td>NaN</td>\n",
       "      <td>NaN</td>\n",
       "      <td>NaN</td>\n",
       "      <td>0.0</td>\n",
       "      <td>0.0</td>\n",
       "      <td>NaN</td>\n",
       "      <td>NaN</td>\n",
       "      <td>Johnson&amp;Johnson, Oxford/AstraZeneca, Pfizer/Bi...</td>\n",
       "      <td>World Health Organization</td>\n",
       "      <td>https://covid19.who.int/</td>\n",
       "    </tr>\n",
       "    <tr>\n",
       "      <th>1</th>\n",
       "      <td>Afghanistan</td>\n",
       "      <td>AFG</td>\n",
       "      <td>2021-02-23</td>\n",
       "      <td>NaN</td>\n",
       "      <td>NaN</td>\n",
       "      <td>NaN</td>\n",
       "      <td>NaN</td>\n",
       "      <td>1367.0</td>\n",
       "      <td>NaN</td>\n",
       "      <td>NaN</td>\n",
       "      <td>NaN</td>\n",
       "      <td>34.0</td>\n",
       "      <td>Johnson&amp;Johnson, Oxford/AstraZeneca, Pfizer/Bi...</td>\n",
       "      <td>World Health Organization</td>\n",
       "      <td>https://covid19.who.int/</td>\n",
       "    </tr>\n",
       "    <tr>\n",
       "      <th>2</th>\n",
       "      <td>Afghanistan</td>\n",
       "      <td>AFG</td>\n",
       "      <td>2021-02-24</td>\n",
       "      <td>NaN</td>\n",
       "      <td>NaN</td>\n",
       "      <td>NaN</td>\n",
       "      <td>NaN</td>\n",
       "      <td>1367.0</td>\n",
       "      <td>NaN</td>\n",
       "      <td>NaN</td>\n",
       "      <td>NaN</td>\n",
       "      <td>34.0</td>\n",
       "      <td>Johnson&amp;Johnson, Oxford/AstraZeneca, Pfizer/Bi...</td>\n",
       "      <td>World Health Organization</td>\n",
       "      <td>https://covid19.who.int/</td>\n",
       "    </tr>\n",
       "    <tr>\n",
       "      <th>3</th>\n",
       "      <td>Afghanistan</td>\n",
       "      <td>AFG</td>\n",
       "      <td>2021-02-25</td>\n",
       "      <td>NaN</td>\n",
       "      <td>NaN</td>\n",
       "      <td>NaN</td>\n",
       "      <td>NaN</td>\n",
       "      <td>1367.0</td>\n",
       "      <td>NaN</td>\n",
       "      <td>NaN</td>\n",
       "      <td>NaN</td>\n",
       "      <td>34.0</td>\n",
       "      <td>Johnson&amp;Johnson, Oxford/AstraZeneca, Pfizer/Bi...</td>\n",
       "      <td>World Health Organization</td>\n",
       "      <td>https://covid19.who.int/</td>\n",
       "    </tr>\n",
       "    <tr>\n",
       "      <th>4</th>\n",
       "      <td>Afghanistan</td>\n",
       "      <td>AFG</td>\n",
       "      <td>2021-02-26</td>\n",
       "      <td>NaN</td>\n",
       "      <td>NaN</td>\n",
       "      <td>NaN</td>\n",
       "      <td>NaN</td>\n",
       "      <td>1367.0</td>\n",
       "      <td>NaN</td>\n",
       "      <td>NaN</td>\n",
       "      <td>NaN</td>\n",
       "      <td>34.0</td>\n",
       "      <td>Johnson&amp;Johnson, Oxford/AstraZeneca, Pfizer/Bi...</td>\n",
       "      <td>World Health Organization</td>\n",
       "      <td>https://covid19.who.int/</td>\n",
       "    </tr>\n",
       "  </tbody>\n",
       "</table>\n",
       "</div>"
      ],
      "text/plain": [
       "       country iso_code        date  total_vaccinations  people_vaccinated  \\\n",
       "0  Afghanistan      AFG  2021-02-22                 0.0                0.0   \n",
       "1  Afghanistan      AFG  2021-02-23                 NaN                NaN   \n",
       "2  Afghanistan      AFG  2021-02-24                 NaN                NaN   \n",
       "3  Afghanistan      AFG  2021-02-25                 NaN                NaN   \n",
       "4  Afghanistan      AFG  2021-02-26                 NaN                NaN   \n",
       "\n",
       "   people_fully_vaccinated  daily_vaccinations_raw  daily_vaccinations  \\\n",
       "0                      NaN                     NaN                 NaN   \n",
       "1                      NaN                     NaN              1367.0   \n",
       "2                      NaN                     NaN              1367.0   \n",
       "3                      NaN                     NaN              1367.0   \n",
       "4                      NaN                     NaN              1367.0   \n",
       "\n",
       "   total_vaccinations_per_hundred  people_vaccinated_per_hundred  \\\n",
       "0                             0.0                            0.0   \n",
       "1                             NaN                            NaN   \n",
       "2                             NaN                            NaN   \n",
       "3                             NaN                            NaN   \n",
       "4                             NaN                            NaN   \n",
       "\n",
       "   people_fully_vaccinated_per_hundred  daily_vaccinations_per_million  \\\n",
       "0                                  NaN                             NaN   \n",
       "1                                  NaN                            34.0   \n",
       "2                                  NaN                            34.0   \n",
       "3                                  NaN                            34.0   \n",
       "4                                  NaN                            34.0   \n",
       "\n",
       "                                            vaccines  \\\n",
       "0  Johnson&Johnson, Oxford/AstraZeneca, Pfizer/Bi...   \n",
       "1  Johnson&Johnson, Oxford/AstraZeneca, Pfizer/Bi...   \n",
       "2  Johnson&Johnson, Oxford/AstraZeneca, Pfizer/Bi...   \n",
       "3  Johnson&Johnson, Oxford/AstraZeneca, Pfizer/Bi...   \n",
       "4  Johnson&Johnson, Oxford/AstraZeneca, Pfizer/Bi...   \n",
       "\n",
       "                 source_name            source_website  \n",
       "0  World Health Organization  https://covid19.who.int/  \n",
       "1  World Health Organization  https://covid19.who.int/  \n",
       "2  World Health Organization  https://covid19.who.int/  \n",
       "3  World Health Organization  https://covid19.who.int/  \n",
       "4  World Health Organization  https://covid19.who.int/  "
      ]
     },
     "execution_count": 5,
     "metadata": {},
     "output_type": "execute_result"
    }
   ],
   "source": [
    "# Exibe os 5 primeiros registros da tabela\n",
    "dataframe.head(5)"
   ]
  },
  {
   "cell_type": "markdown",
   "id": "6308ed89-57ae-486c-bacd-412066014e33",
   "metadata": {},
   "source": [
    "# Analisando os dados \n",
    "\n",
    "## Sobre o dataset\n",
    "\n",
    "O dataset utilizado é referente a estatistica do número de vacinados da COVID-19 em todos os paises do mundo.\n",
    "\n",
    "Para esse estudo vamos utilizar as variáveis: country = pais; date = data; total_vaccinations = Número total de vacinações (Número absoluto de imunizações totais no país); daily_vaccinations = Número de vacinados por dia; Vaccines = Vacinas utilizadas no país;\n",
    "\n",
    "Vamos responder as perguntas:\n",
    "\n",
    "1. Quais são os países com maior número de pessoas imunizadas ?\n",
    "2. Qual é a vacina mais utilizada no mundo ? ** Existem diferentes tipos de vacinas disponível no mundo.\n",
    "3. Qual país possui o maior número de vacinados por dia ?\n",
    "4. Qual a média de vacinação por país ?\n",
    "\n",
    "Após responder as perguntas vamos exportar as respostas obtidas.\n",
    "\n",
    "\n",
    "\n"
   ]
  },
  {
   "cell_type": "code",
   "execution_count": 6,
   "id": "2fc63358-b5da-4376-810c-8aef5842d417",
   "metadata": {},
   "outputs": [
    {
     "data": {
      "text/html": [
       "<div>\n",
       "<style scoped>\n",
       "    .dataframe tbody tr th:only-of-type {\n",
       "        vertical-align: middle;\n",
       "    }\n",
       "\n",
       "    .dataframe tbody tr th {\n",
       "        vertical-align: top;\n",
       "    }\n",
       "\n",
       "    .dataframe thead th {\n",
       "        text-align: right;\n",
       "    }\n",
       "</style>\n",
       "<table border=\"1\" class=\"dataframe\">\n",
       "  <thead>\n",
       "    <tr style=\"text-align: right;\">\n",
       "      <th></th>\n",
       "      <th>country</th>\n",
       "      <th>iso_code</th>\n",
       "      <th>date</th>\n",
       "      <th>total_vaccinations</th>\n",
       "      <th>people_vaccinated</th>\n",
       "      <th>people_fully_vaccinated</th>\n",
       "      <th>daily_vaccinations_raw</th>\n",
       "      <th>daily_vaccinations</th>\n",
       "      <th>total_vaccinations_per_hundred</th>\n",
       "      <th>people_vaccinated_per_hundred</th>\n",
       "      <th>people_fully_vaccinated_per_hundred</th>\n",
       "      <th>daily_vaccinations_per_million</th>\n",
       "      <th>vaccines</th>\n",
       "      <th>source_name</th>\n",
       "      <th>source_website</th>\n",
       "    </tr>\n",
       "  </thead>\n",
       "  <tbody>\n",
       "    <tr>\n",
       "      <th>11085</th>\n",
       "      <td>Brazil</td>\n",
       "      <td>BRA</td>\n",
       "      <td>2022-03-29</td>\n",
       "      <td>413559595.0</td>\n",
       "      <td>181078067.0</td>\n",
       "      <td>160272858.0</td>\n",
       "      <td>1382570.0</td>\n",
       "      <td>656803.0</td>\n",
       "      <td>193.26</td>\n",
       "      <td>84.62</td>\n",
       "      <td>74.90</td>\n",
       "      <td>3069.0</td>\n",
       "      <td>Johnson&amp;Johnson, Oxford/AstraZeneca, Pfizer/Bi...</td>\n",
       "      <td>State governments via coronavirusbra1.github.io</td>\n",
       "      <td>https://coronavirusbra1.github.io</td>\n",
       "    </tr>\n",
       "    <tr>\n",
       "      <th>11084</th>\n",
       "      <td>Brazil</td>\n",
       "      <td>BRA</td>\n",
       "      <td>2022-03-28</td>\n",
       "      <td>412177025.0</td>\n",
       "      <td>180881628.0</td>\n",
       "      <td>160008924.0</td>\n",
       "      <td>628823.0</td>\n",
       "      <td>546999.0</td>\n",
       "      <td>192.61</td>\n",
       "      <td>84.53</td>\n",
       "      <td>74.77</td>\n",
       "      <td>2556.0</td>\n",
       "      <td>Johnson&amp;Johnson, Oxford/AstraZeneca, Pfizer/Bi...</td>\n",
       "      <td>State governments via coronavirusbra1.github.io</td>\n",
       "      <td>https://coronavirusbra1.github.io</td>\n",
       "    </tr>\n",
       "  </tbody>\n",
       "</table>\n",
       "</div>"
      ],
      "text/plain": [
       "      country iso_code        date  total_vaccinations  people_vaccinated  \\\n",
       "11085  Brazil      BRA  2022-03-29         413559595.0        181078067.0   \n",
       "11084  Brazil      BRA  2022-03-28         412177025.0        180881628.0   \n",
       "\n",
       "       people_fully_vaccinated  daily_vaccinations_raw  daily_vaccinations  \\\n",
       "11085              160272858.0               1382570.0            656803.0   \n",
       "11084              160008924.0                628823.0            546999.0   \n",
       "\n",
       "       total_vaccinations_per_hundred  people_vaccinated_per_hundred  \\\n",
       "11085                          193.26                          84.62   \n",
       "11084                          192.61                          84.53   \n",
       "\n",
       "       people_fully_vaccinated_per_hundred  daily_vaccinations_per_million  \\\n",
       "11085                                74.90                          3069.0   \n",
       "11084                                74.77                          2556.0   \n",
       "\n",
       "                                                vaccines  \\\n",
       "11085  Johnson&Johnson, Oxford/AstraZeneca, Pfizer/Bi...   \n",
       "11084  Johnson&Johnson, Oxford/AstraZeneca, Pfizer/Bi...   \n",
       "\n",
       "                                           source_name  \\\n",
       "11085  State governments via coronavirusbra1.github.io   \n",
       "11084  State governments via coronavirusbra1.github.io   \n",
       "\n",
       "                          source_website  \n",
       "11085  https://coronavirusbra1.github.io  \n",
       "11084  https://coronavirusbra1.github.io  "
      ]
     },
     "execution_count": 6,
     "metadata": {},
     "output_type": "execute_result"
    }
   ],
   "source": [
    "# Verificando dados referentes ao brasil por dia.\n",
    "dataframe.query('country == \"Brazil\" ').sort_values('date', ascending=False)[:2]"
   ]
  },
  {
   "cell_type": "code",
   "execution_count": 7,
   "id": "2d9e07bf-8e69-41cf-ba00-4d393fb13eb2",
   "metadata": {},
   "outputs": [
    {
     "data": {
      "text/plain": [
       "223"
      ]
     },
     "execution_count": 7,
     "metadata": {},
     "output_type": "execute_result"
    }
   ],
   "source": [
    "# Verificando o número de países distintos na base\n",
    "dataframe['country'].nunique()"
   ]
  },
  {
   "cell_type": "markdown",
   "id": "205a78c4-425a-40c5-9f6d-31d59ef5b409",
   "metadata": {},
   "source": [
    "*Temos 223 registros de países no nosso dataset*"
   ]
  },
  {
   "cell_type": "markdown",
   "id": "3adbc6ec-7d91-4f54-a9d6-e9c006331aee",
   "metadata": {},
   "source": [
    "# 1. Qual o país com maior número de pessoas imunizadas ?\n",
    "\n",
    "Para que a análise seja realizada de forma correta é necessário analisar profundamente os dados. Nessa etapa, precisamos fazer vários testes afim de conhecer melhor os dados. Perceba que o dataset traz informação por data de coleta. Dessa forma, temos que filtrar o último registro baseado na data.\n",
    "\n",
    "Será que a análise é correta ?"
   ]
  },
  {
   "cell_type": "code",
   "execution_count": 9,
   "id": "856ba594-52cf-48ef-b11c-947013a0e8ca",
   "metadata": {},
   "outputs": [
    {
     "data": {
      "text/plain": [
       "'2022-03-29'"
      ]
     },
     "execution_count": 9,
     "metadata": {},
     "output_type": "execute_result"
    }
   ],
   "source": [
    "# Identificando a data mais recente da coleta\n",
    "ultima_data = dataframe['date'].max()\n",
    "ultima_data"
   ]
  },
  {
   "cell_type": "code",
   "execution_count": 10,
   "id": "1b3a121b-5731-4af3-93bf-3bb0736b1580",
   "metadata": {},
   "outputs": [],
   "source": [
    "# Filtrando a ultima data\n",
    "ultima_data = dataframe[dataframe.date == ultima_data]"
   ]
  },
  {
   "cell_type": "code",
   "execution_count": 11,
   "id": "abde637c-1632-4264-8202-8d2031a8b33e",
   "metadata": {},
   "outputs": [
    {
     "data": {
      "text/plain": [
       "(54, 15)"
      ]
     },
     "execution_count": 11,
     "metadata": {},
     "output_type": "execute_result"
    }
   ],
   "source": [
    "# O comando shape mostra a quantidade de linhas e colunas dentro de um dataset\n",
    "ultima_data.shape"
   ]
  },
  {
   "cell_type": "markdown",
   "id": "0a31402a-374f-4091-8225-1103b390d3c5",
   "metadata": {},
   "source": [
    "# Atenção!\n",
    "\n",
    "Perceba que o dataset filtrado pela última data retornou (54, 15) ou seja 54 linhas e 15 colunas. Isso não está certo ! Pois verificamos que temos 223 países no dataset original.\n",
    "\n",
    "Dessa forma, ao filtrar pela última data estamos excluindo registros de outros paises que não foram ainda computados na última coleta.\n",
    "Para resolver esse problema, temos que selecionar o último registro de data de cada pais. Assim não vamos deixar nenhum país de fora.\n",
    "\n",
    "Vamos fazer um agrupamento do pais e selecionar a última data de atualização que foi realizada."
   ]
  },
  {
   "cell_type": "code",
   "execution_count": 12,
   "id": "9f60aa92-7bd5-4f63-ae6d-57c03bbcc83a",
   "metadata": {},
   "outputs": [
    {
     "data": {
      "text/plain": [
       "country\n",
       "Lebanon                            2022-03-29\n",
       "Lithuania                          2022-03-29\n",
       "Kosovo                             2022-03-29\n",
       "Kazakhstan                         2022-03-29\n",
       "Japan                              2022-03-29\n",
       "                                      ...    \n",
       "Pitcairn                           2021-09-07\n",
       "Turkmenistan                       2021-09-05\n",
       "Bonaire Sint Eustatius and Saba    2021-09-01\n",
       "Saint Helena                       2021-05-05\n",
       "Falkland Islands                   2021-04-14\n",
       "Name: date, Length: 223, dtype: object"
      ]
     },
     "execution_count": 12,
     "metadata": {},
     "output_type": "execute_result"
    }
   ],
   "source": [
    "dataframe.groupby('country')['date'].max().sort_values(ascending=False)"
   ]
  },
  {
   "cell_type": "markdown",
   "id": "53e8631e-99da-4ffe-b99c-86706833046b",
   "metadata": {},
   "source": [
    "**Agora vimos que existem de fato países que não possuem a atualização da última data da coleta. Dessa forma, temos que procurar uma outra maneira para obter esses dados. A variável total_vaccinations contém o total de vacinações naquele país. Ou seja, podemos utilizar ele como parâmetro para buscar a última data de coleta. Desta forma, vamos agrupar por país e pegar o valor máximo obtido nessa variável.**"
   ]
  },
  {
   "cell_type": "code",
   "execution_count": 13,
   "id": "1b15a6b5-b0f1-41ad-9f88-28a4c42c28df",
   "metadata": {},
   "outputs": [
    {
     "data": {
      "text/plain": [
       "country\n",
       "China               3.263129e+09\n",
       "India               1.834501e+09\n",
       "United States       5.601818e+08\n",
       "Brazil              4.135596e+08\n",
       "Indonesia           3.771089e+08\n",
       "                        ...     \n",
       "Falkland Islands    4.407000e+03\n",
       "Montserrat          4.211000e+03\n",
       "Niue                4.161000e+03\n",
       "Tokelau             1.936000e+03\n",
       "Pitcairn            9.400000e+01\n",
       "Name: total_vaccinations, Length: 223, dtype: float64"
      ]
     },
     "execution_count": 13,
     "metadata": {},
     "output_type": "execute_result"
    }
   ],
   "source": [
    "dataframe.groupby('country')['total_vaccinations'].max().sort_values(ascending=False)"
   ]
  },
  {
   "cell_type": "markdown",
   "id": "fe49bfc0-3b49-4323-a920-aa65d7a55bfb",
   "metadata": {},
   "source": [
    "Vamos então criar a lista com os TOP 10 países"
   ]
  },
  {
   "cell_type": "code",
   "execution_count": 14,
   "id": "bd7b4559-40ae-4d1b-bfc3-a7d4b28a2a18",
   "metadata": {},
   "outputs": [
    {
     "data": {
      "text/plain": [
       "country\n",
       "China               3.263129e+09\n",
       "India               1.834501e+09\n",
       "United States       5.601818e+08\n",
       "Brazil              4.135596e+08\n",
       "Indonesia           3.771089e+08\n",
       "                        ...     \n",
       "Falkland Islands    4.407000e+03\n",
       "Montserrat          4.211000e+03\n",
       "Niue                4.161000e+03\n",
       "Tokelau             1.936000e+03\n",
       "Pitcairn            9.400000e+01\n",
       "Name: total_vaccinations, Length: 223, dtype: float64"
      ]
     },
     "execution_count": 14,
     "metadata": {},
     "output_type": "execute_result"
    }
   ],
   "source": [
    "imunizados_por_pais = dataframe.groupby('country')['total_vaccinations'].max().sort_values(ascending=False)\n",
    "imunizados_por_pais"
   ]
  },
  {
   "cell_type": "code",
   "execution_count": 15,
   "id": "b835b27d-bd47-4710-aaac-f3804089a633",
   "metadata": {},
   "outputs": [
    {
     "data": {
      "text/plain": [
       "pandas.core.series.Series"
      ]
     },
     "execution_count": 15,
     "metadata": {},
     "output_type": "execute_result"
    }
   ],
   "source": [
    "type(imunizados_por_pais)"
   ]
  },
  {
   "cell_type": "markdown",
   "id": "8074a062-e9fc-4760-a9f4-1057970b4c76",
   "metadata": {},
   "source": [
    "Percebam que efetuar uma operação, o seu resultado se transforma em uma série pandas.\n",
    "Uma série pandas se caracteriza por um array unidimensional capaz de armazenar qualquer tipo de dados com rótulos ou índice de eixo. Um exemplo de objeto Series é uma coluna de um DataFrame.\n",
    "\n",
    "Para transformar novamente em um dataframe temos que usar o comando to_frame() e resetar o index.\n"
   ]
  },
  {
   "cell_type": "code",
   "execution_count": 17,
   "id": "30bd4b86-23e5-4543-802b-dc3ebf1298d0",
   "metadata": {},
   "outputs": [
    {
     "data": {
      "text/html": [
       "<div>\n",
       "<style scoped>\n",
       "    .dataframe tbody tr th:only-of-type {\n",
       "        vertical-align: middle;\n",
       "    }\n",
       "\n",
       "    .dataframe tbody tr th {\n",
       "        vertical-align: top;\n",
       "    }\n",
       "\n",
       "    .dataframe thead th {\n",
       "        text-align: right;\n",
       "    }\n",
       "</style>\n",
       "<table border=\"1\" class=\"dataframe\">\n",
       "  <thead>\n",
       "    <tr style=\"text-align: right;\">\n",
       "      <th></th>\n",
       "      <th>country</th>\n",
       "      <th>total_vaccinations</th>\n",
       "    </tr>\n",
       "  </thead>\n",
       "  <tbody>\n",
       "    <tr>\n",
       "      <th>0</th>\n",
       "      <td>China</td>\n",
       "      <td>3.263129e+09</td>\n",
       "    </tr>\n",
       "    <tr>\n",
       "      <th>1</th>\n",
       "      <td>India</td>\n",
       "      <td>1.834501e+09</td>\n",
       "    </tr>\n",
       "    <tr>\n",
       "      <th>2</th>\n",
       "      <td>United States</td>\n",
       "      <td>5.601818e+08</td>\n",
       "    </tr>\n",
       "    <tr>\n",
       "      <th>3</th>\n",
       "      <td>Brazil</td>\n",
       "      <td>4.135596e+08</td>\n",
       "    </tr>\n",
       "    <tr>\n",
       "      <th>4</th>\n",
       "      <td>Indonesia</td>\n",
       "      <td>3.771089e+08</td>\n",
       "    </tr>\n",
       "    <tr>\n",
       "      <th>...</th>\n",
       "      <td>...</td>\n",
       "      <td>...</td>\n",
       "    </tr>\n",
       "    <tr>\n",
       "      <th>218</th>\n",
       "      <td>Falkland Islands</td>\n",
       "      <td>4.407000e+03</td>\n",
       "    </tr>\n",
       "    <tr>\n",
       "      <th>219</th>\n",
       "      <td>Montserrat</td>\n",
       "      <td>4.211000e+03</td>\n",
       "    </tr>\n",
       "    <tr>\n",
       "      <th>220</th>\n",
       "      <td>Niue</td>\n",
       "      <td>4.161000e+03</td>\n",
       "    </tr>\n",
       "    <tr>\n",
       "      <th>221</th>\n",
       "      <td>Tokelau</td>\n",
       "      <td>1.936000e+03</td>\n",
       "    </tr>\n",
       "    <tr>\n",
       "      <th>222</th>\n",
       "      <td>Pitcairn</td>\n",
       "      <td>9.400000e+01</td>\n",
       "    </tr>\n",
       "  </tbody>\n",
       "</table>\n",
       "<p>223 rows × 2 columns</p>\n",
       "</div>"
      ],
      "text/plain": [
       "              country  total_vaccinations\n",
       "0               China        3.263129e+09\n",
       "1               India        1.834501e+09\n",
       "2       United States        5.601818e+08\n",
       "3              Brazil        4.135596e+08\n",
       "4           Indonesia        3.771089e+08\n",
       "..                ...                 ...\n",
       "218  Falkland Islands        4.407000e+03\n",
       "219        Montserrat        4.211000e+03\n",
       "220              Niue        4.161000e+03\n",
       "221           Tokelau        1.936000e+03\n",
       "222          Pitcairn        9.400000e+01\n",
       "\n",
       "[223 rows x 2 columns]"
      ]
     },
     "execution_count": 17,
     "metadata": {},
     "output_type": "execute_result"
    }
   ],
   "source": [
    "imunizados = imunizados_por_pais.to_frame().reset_index()\n",
    "imunizados"
   ]
  },
  {
   "cell_type": "markdown",
   "id": "7ce25e9e-bbe6-4e21-a9cc-31d02c7e92d1",
   "metadata": {},
   "source": [
    "Pronto! Agora temos a relação do número total de imunizados por país.\n",
    "\n",
    "Vamos utilizar o método sort_values na variável total_vaccinations para ordenar e o parâmetro ascending como False para ordenar do maior para o menor.\n",
    "Além disso. Vamos selecionar os 10 primeiros países."
   ]
  },
  {
   "cell_type": "code",
   "execution_count": 19,
   "id": "ee485851-8f1e-437d-9607-8a82a5029169",
   "metadata": {},
   "outputs": [
    {
     "data": {
      "text/html": [
       "<div>\n",
       "<style scoped>\n",
       "    .dataframe tbody tr th:only-of-type {\n",
       "        vertical-align: middle;\n",
       "    }\n",
       "\n",
       "    .dataframe tbody tr th {\n",
       "        vertical-align: top;\n",
       "    }\n",
       "\n",
       "    .dataframe thead th {\n",
       "        text-align: right;\n",
       "    }\n",
       "</style>\n",
       "<table border=\"1\" class=\"dataframe\">\n",
       "  <thead>\n",
       "    <tr style=\"text-align: right;\">\n",
       "      <th></th>\n",
       "      <th>country</th>\n",
       "      <th>total_vaccinations</th>\n",
       "    </tr>\n",
       "  </thead>\n",
       "  <tbody>\n",
       "    <tr>\n",
       "      <th>0</th>\n",
       "      <td>China</td>\n",
       "      <td>3.263129e+09</td>\n",
       "    </tr>\n",
       "    <tr>\n",
       "      <th>1</th>\n",
       "      <td>India</td>\n",
       "      <td>1.834501e+09</td>\n",
       "    </tr>\n",
       "    <tr>\n",
       "      <th>2</th>\n",
       "      <td>United States</td>\n",
       "      <td>5.601818e+08</td>\n",
       "    </tr>\n",
       "    <tr>\n",
       "      <th>3</th>\n",
       "      <td>Brazil</td>\n",
       "      <td>4.135596e+08</td>\n",
       "    </tr>\n",
       "    <tr>\n",
       "      <th>4</th>\n",
       "      <td>Indonesia</td>\n",
       "      <td>3.771089e+08</td>\n",
       "    </tr>\n",
       "    <tr>\n",
       "      <th>5</th>\n",
       "      <td>Japan</td>\n",
       "      <td>2.543456e+08</td>\n",
       "    </tr>\n",
       "    <tr>\n",
       "      <th>6</th>\n",
       "      <td>Bangladesh</td>\n",
       "      <td>2.436427e+08</td>\n",
       "    </tr>\n",
       "    <tr>\n",
       "      <th>7</th>\n",
       "      <td>Pakistan</td>\n",
       "      <td>2.193686e+08</td>\n",
       "    </tr>\n",
       "    <tr>\n",
       "      <th>8</th>\n",
       "      <td>Vietnam</td>\n",
       "      <td>2.031444e+08</td>\n",
       "    </tr>\n",
       "    <tr>\n",
       "      <th>9</th>\n",
       "      <td>Mexico</td>\n",
       "      <td>1.919079e+08</td>\n",
       "    </tr>\n",
       "  </tbody>\n",
       "</table>\n",
       "</div>"
      ],
      "text/plain": [
       "         country  total_vaccinations\n",
       "0          China        3.263129e+09\n",
       "1          India        1.834501e+09\n",
       "2  United States        5.601818e+08\n",
       "3         Brazil        4.135596e+08\n",
       "4      Indonesia        3.771089e+08\n",
       "5          Japan        2.543456e+08\n",
       "6     Bangladesh        2.436427e+08\n",
       "7       Pakistan        2.193686e+08\n",
       "8        Vietnam        2.031444e+08\n",
       "9         Mexico        1.919079e+08"
      ]
     },
     "execution_count": 19,
     "metadata": {},
     "output_type": "execute_result"
    }
   ],
   "source": [
    "imunizados.sort_values('total_vaccinations', ascending=False).head(10)"
   ]
  },
  {
   "cell_type": "markdown",
   "id": "69523514-dcb2-44d0-b515-dd3ffddc6c2f",
   "metadata": {},
   "source": [
    "# 2. Qual vacina é mais utilizada no mundo ?\n",
    "\n",
    "Para descobrir qual vacina mais utilizada no mundo devemos criar um dataframe contendo as vacinas utilizadas por pais. Com isso, vamos ter uma relação com todas as vacinas por pais em uma determinada data."
   ]
  },
  {
   "cell_type": "code",
   "execution_count": 20,
   "id": "ab73c44a-6781-43d7-9ede-e3feeb7feef1",
   "metadata": {},
   "outputs": [
    {
     "data": {
      "text/html": [
       "<div>\n",
       "<style scoped>\n",
       "    .dataframe tbody tr th:only-of-type {\n",
       "        vertical-align: middle;\n",
       "    }\n",
       "\n",
       "    .dataframe tbody tr th {\n",
       "        vertical-align: top;\n",
       "    }\n",
       "\n",
       "    .dataframe thead th {\n",
       "        text-align: right;\n",
       "    }\n",
       "</style>\n",
       "<table border=\"1\" class=\"dataframe\">\n",
       "  <thead>\n",
       "    <tr style=\"text-align: right;\">\n",
       "      <th></th>\n",
       "      <th>country</th>\n",
       "      <th>date</th>\n",
       "      <th>vaccines</th>\n",
       "    </tr>\n",
       "  </thead>\n",
       "  <tbody>\n",
       "    <tr>\n",
       "      <th>0</th>\n",
       "      <td>Afghanistan</td>\n",
       "      <td>2021-02-22</td>\n",
       "      <td>Johnson&amp;Johnson, Oxford/AstraZeneca, Pfizer/Bi...</td>\n",
       "    </tr>\n",
       "    <tr>\n",
       "      <th>1</th>\n",
       "      <td>Afghanistan</td>\n",
       "      <td>2021-02-23</td>\n",
       "      <td>Johnson&amp;Johnson, Oxford/AstraZeneca, Pfizer/Bi...</td>\n",
       "    </tr>\n",
       "    <tr>\n",
       "      <th>2</th>\n",
       "      <td>Afghanistan</td>\n",
       "      <td>2021-02-24</td>\n",
       "      <td>Johnson&amp;Johnson, Oxford/AstraZeneca, Pfizer/Bi...</td>\n",
       "    </tr>\n",
       "    <tr>\n",
       "      <th>3</th>\n",
       "      <td>Afghanistan</td>\n",
       "      <td>2021-02-25</td>\n",
       "      <td>Johnson&amp;Johnson, Oxford/AstraZeneca, Pfizer/Bi...</td>\n",
       "    </tr>\n",
       "    <tr>\n",
       "      <th>4</th>\n",
       "      <td>Afghanistan</td>\n",
       "      <td>2021-02-26</td>\n",
       "      <td>Johnson&amp;Johnson, Oxford/AstraZeneca, Pfizer/Bi...</td>\n",
       "    </tr>\n",
       "    <tr>\n",
       "      <th>...</th>\n",
       "      <td>...</td>\n",
       "      <td>...</td>\n",
       "      <td>...</td>\n",
       "    </tr>\n",
       "    <tr>\n",
       "      <th>86507</th>\n",
       "      <td>Zimbabwe</td>\n",
       "      <td>2022-03-25</td>\n",
       "      <td>Oxford/AstraZeneca, Sinopharm/Beijing, Sinovac...</td>\n",
       "    </tr>\n",
       "    <tr>\n",
       "      <th>86508</th>\n",
       "      <td>Zimbabwe</td>\n",
       "      <td>2022-03-26</td>\n",
       "      <td>Oxford/AstraZeneca, Sinopharm/Beijing, Sinovac...</td>\n",
       "    </tr>\n",
       "    <tr>\n",
       "      <th>86509</th>\n",
       "      <td>Zimbabwe</td>\n",
       "      <td>2022-03-27</td>\n",
       "      <td>Oxford/AstraZeneca, Sinopharm/Beijing, Sinovac...</td>\n",
       "    </tr>\n",
       "    <tr>\n",
       "      <th>86510</th>\n",
       "      <td>Zimbabwe</td>\n",
       "      <td>2022-03-28</td>\n",
       "      <td>Oxford/AstraZeneca, Sinopharm/Beijing, Sinovac...</td>\n",
       "    </tr>\n",
       "    <tr>\n",
       "      <th>86511</th>\n",
       "      <td>Zimbabwe</td>\n",
       "      <td>2022-03-29</td>\n",
       "      <td>Oxford/AstraZeneca, Sinopharm/Beijing, Sinovac...</td>\n",
       "    </tr>\n",
       "  </tbody>\n",
       "</table>\n",
       "<p>86512 rows × 3 columns</p>\n",
       "</div>"
      ],
      "text/plain": [
       "           country        date  \\\n",
       "0      Afghanistan  2021-02-22   \n",
       "1      Afghanistan  2021-02-23   \n",
       "2      Afghanistan  2021-02-24   \n",
       "3      Afghanistan  2021-02-25   \n",
       "4      Afghanistan  2021-02-26   \n",
       "...            ...         ...   \n",
       "86507     Zimbabwe  2022-03-25   \n",
       "86508     Zimbabwe  2022-03-26   \n",
       "86509     Zimbabwe  2022-03-27   \n",
       "86510     Zimbabwe  2022-03-28   \n",
       "86511     Zimbabwe  2022-03-29   \n",
       "\n",
       "                                                vaccines  \n",
       "0      Johnson&Johnson, Oxford/AstraZeneca, Pfizer/Bi...  \n",
       "1      Johnson&Johnson, Oxford/AstraZeneca, Pfizer/Bi...  \n",
       "2      Johnson&Johnson, Oxford/AstraZeneca, Pfizer/Bi...  \n",
       "3      Johnson&Johnson, Oxford/AstraZeneca, Pfizer/Bi...  \n",
       "4      Johnson&Johnson, Oxford/AstraZeneca, Pfizer/Bi...  \n",
       "...                                                  ...  \n",
       "86507  Oxford/AstraZeneca, Sinopharm/Beijing, Sinovac...  \n",
       "86508  Oxford/AstraZeneca, Sinopharm/Beijing, Sinovac...  \n",
       "86509  Oxford/AstraZeneca, Sinopharm/Beijing, Sinovac...  \n",
       "86510  Oxford/AstraZeneca, Sinopharm/Beijing, Sinovac...  \n",
       "86511  Oxford/AstraZeneca, Sinopharm/Beijing, Sinovac...  \n",
       "\n",
       "[86512 rows x 3 columns]"
      ]
     },
     "execution_count": 20,
     "metadata": {},
     "output_type": "execute_result"
    }
   ],
   "source": [
    "vacinas_por_pais = dataframe[['country', 'date', 'vaccines']]\n",
    "vacinas_por_pais"
   ]
  },
  {
   "cell_type": "markdown",
   "id": "e161f499-aa28-454c-907f-6dbaeabe1e96",
   "metadata": {},
   "source": [
    "Ótimo! Agora vamos agrupar as vacinas e contar os paises apenas uma vez. Se no dataset tiver um pais utilizando duas vacinas, ele vai ser contado duas vezes."
   ]
  },
  {
   "cell_type": "code",
   "execution_count": 21,
   "id": "a3d74083-7d33-4150-a75f-85c909562bf4",
   "metadata": {},
   "outputs": [
    {
     "data": {
      "text/plain": [
       "vaccines\n",
       "Oxford/AstraZeneca                                                                                    20\n",
       "Johnson&Johnson, Moderna, Oxford/AstraZeneca, Pfizer/BioNTech                                         17\n",
       "Moderna, Oxford/AstraZeneca, Pfizer/BioNTech                                                          15\n",
       "Oxford/AstraZeneca, Pfizer/BioNTech                                                                   11\n",
       "Johnson&Johnson, Moderna, Novavax, Oxford/AstraZeneca, Pfizer/BioNTech                                 8\n",
       "                                                                                                      ..\n",
       "Moderna, Oxford/AstraZeneca, Pfizer/BioNTech, Sinopharm/Beijing, Sinovac                               1\n",
       "Moderna, Oxford/AstraZeneca, Pfizer/BioNTech, Sinovac, Sputnik Light, Sputnik V, ZF2001                1\n",
       "Moderna, Oxford/AstraZeneca, Pfizer/BioNTech, Sinovac, Sputnik V                                       1\n",
       "Moderna, Oxford/AstraZeneca, Pfizer/BioNTech, Sputnik V                                                1\n",
       "Abdala, Johnson&Johnson, Oxford/AstraZeneca, Pfizer/BioNTech, Soberana02, Sputnik Light, Sputnik V     1\n",
       "Name: country, Length: 84, dtype: int64"
      ]
     },
     "execution_count": 21,
     "metadata": {},
     "output_type": "execute_result"
    }
   ],
   "source": [
    "vacinas_por_pais.groupby('vaccines')['country'].nunique().sort_values(ascending=False)"
   ]
  },
  {
   "cell_type": "code",
   "execution_count": 22,
   "id": "a75fdf8f-a6ed-4d66-9594-1cbd4307a259",
   "metadata": {},
   "outputs": [],
   "source": [
    "vacinas_pais = dataframe.groupby('country')['vaccines'].nunique()\n",
    "vacinas_pais = vacinas_pais.to_frame().reset_index()"
   ]
  },
  {
   "cell_type": "markdown",
   "id": "bf039cb1-c4dd-4e4d-a09b-b9eb612a4d74",
   "metadata": {},
   "source": [
    "Temos a relação entre as vacinas mais utilizadas no mundo. Percebam que a vacina Pfizer/BioNTech contém 17 paises fazendo o seu uso."
   ]
  },
  {
   "cell_type": "markdown",
   "id": "70a81d42-f323-4663-a8c7-ba7081aba170",
   "metadata": {},
   "source": [
    "# 3. Qual o país possui o maior número de vacinados por dia ?\n",
    "Para obter essa resposta temos que analisar a variável daily_vaccinations"
   ]
  },
  {
   "cell_type": "code",
   "execution_count": 23,
   "id": "6f5c0aca-4ed6-4aab-b0f4-53d547608e66",
   "metadata": {},
   "outputs": [
    {
     "data": {
      "text/plain": [
       "country\n",
       "China            22424286.0\n",
       "India            10037995.0\n",
       "Bangladesh        3758404.0\n",
       "United States     3506960.0\n",
       "Pakistan          2175773.0\n",
       "                    ...    \n",
       "Saint Helena          165.0\n",
       "Niue                   87.0\n",
       "Montserrat             53.0\n",
       "Tokelau                23.0\n",
       "Pitcairn                1.0\n",
       "Name: daily_vaccinations, Length: 223, dtype: float64"
      ]
     },
     "execution_count": 23,
     "metadata": {},
     "output_type": "execute_result"
    }
   ],
   "source": [
    "dataframe.groupby('country')['daily_vaccinations'].max().sort_values(ascending=False)"
   ]
  },
  {
   "cell_type": "markdown",
   "id": "031d9725-b74a-46cc-8ce1-4f7f635aa497",
   "metadata": {},
   "source": [
    "# 4. Qual a média de vacinação diária por país ?"
   ]
  },
  {
   "cell_type": "code",
   "execution_count": 25,
   "id": "eeb455b3-ee92-41a2-b454-299d849db13e",
   "metadata": {},
   "outputs": [
    {
     "data": {
      "text/html": [
       "<div>\n",
       "<style scoped>\n",
       "    .dataframe tbody tr th:only-of-type {\n",
       "        vertical-align: middle;\n",
       "    }\n",
       "\n",
       "    .dataframe tbody tr th {\n",
       "        vertical-align: top;\n",
       "    }\n",
       "\n",
       "    .dataframe thead th {\n",
       "        text-align: right;\n",
       "    }\n",
       "</style>\n",
       "<table border=\"1\" class=\"dataframe\">\n",
       "  <thead>\n",
       "    <tr style=\"text-align: right;\">\n",
       "      <th></th>\n",
       "      <th>country</th>\n",
       "      <th>daily_vaccinations</th>\n",
       "    </tr>\n",
       "  </thead>\n",
       "  <tbody>\n",
       "    <tr>\n",
       "      <th>0</th>\n",
       "      <td>China</td>\n",
       "      <td>6.930368e+06</td>\n",
       "    </tr>\n",
       "    <tr>\n",
       "      <th>1</th>\n",
       "      <td>India</td>\n",
       "      <td>4.175994e+06</td>\n",
       "    </tr>\n",
       "    <tr>\n",
       "      <th>2</th>\n",
       "      <td>United States</td>\n",
       "      <td>1.191727e+06</td>\n",
       "    </tr>\n",
       "    <tr>\n",
       "      <th>3</th>\n",
       "      <td>Brazil</td>\n",
       "      <td>9.435287e+05</td>\n",
       "    </tr>\n",
       "    <tr>\n",
       "      <th>4</th>\n",
       "      <td>Indonesia</td>\n",
       "      <td>8.462893e+05</td>\n",
       "    </tr>\n",
       "    <tr>\n",
       "      <th>...</th>\n",
       "      <td>...</td>\n",
       "      <td>...</td>\n",
       "    </tr>\n",
       "    <tr>\n",
       "      <th>218</th>\n",
       "      <td>Wallis and Futuna</td>\n",
       "      <td>3.388649e+01</td>\n",
       "    </tr>\n",
       "    <tr>\n",
       "      <th>219</th>\n",
       "      <td>Tokelau</td>\n",
       "      <td>1.739823e+01</td>\n",
       "    </tr>\n",
       "    <tr>\n",
       "      <th>220</th>\n",
       "      <td>Niue</td>\n",
       "      <td>1.631698e+01</td>\n",
       "    </tr>\n",
       "    <tr>\n",
       "      <th>221</th>\n",
       "      <td>Montserrat</td>\n",
       "      <td>1.053659e+01</td>\n",
       "    </tr>\n",
       "    <tr>\n",
       "      <th>222</th>\n",
       "      <td>Pitcairn</td>\n",
       "      <td>5.119048e-01</td>\n",
       "    </tr>\n",
       "  </tbody>\n",
       "</table>\n",
       "<p>223 rows × 2 columns</p>\n",
       "</div>"
      ],
      "text/plain": [
       "               country  daily_vaccinations\n",
       "0                China        6.930368e+06\n",
       "1                India        4.175994e+06\n",
       "2        United States        1.191727e+06\n",
       "3               Brazil        9.435287e+05\n",
       "4            Indonesia        8.462893e+05\n",
       "..                 ...                 ...\n",
       "218  Wallis and Futuna        3.388649e+01\n",
       "219            Tokelau        1.739823e+01\n",
       "220               Niue        1.631698e+01\n",
       "221         Montserrat        1.053659e+01\n",
       "222           Pitcairn        5.119048e-01\n",
       "\n",
       "[223 rows x 2 columns]"
      ]
     },
     "execution_count": 25,
     "metadata": {},
     "output_type": "execute_result"
    }
   ],
   "source": [
    "media_pais = dataframe.groupby('country')['daily_vaccinations'].mean().sort_values(ascending=False)\n",
    "media_pais = media_pais.to_frame().reset_index()\n",
    "media_pais"
   ]
  },
  {
   "cell_type": "markdown",
   "id": "863c99ad-dc4e-44ee-9cfa-d22421c2aa85",
   "metadata": {},
   "source": [
    "Pronto! Todas as perguntas respondidas.\n",
    "\n",
    "Um dos trabalhos de um cientista de dados é extrair, limpar, tratar e gerar novos dados.\n",
    "\n",
    "Geramos alguns dataframes das perguntas que criamos:\n",
    "\n",
    "1. imunizados\n",
    "2. vacinas_por_pais\n",
    "3. media_pais\n",
    "\n",
    "Agora vamos criar uma nova base de dados utilizando os dados que tratamos anteriormente.\n"
   ]
  },
  {
   "cell_type": "code",
   "execution_count": 27,
   "id": "4b4ca2bf-ca8e-4261-b57c-8e3ed8b2e033",
   "metadata": {},
   "outputs": [
    {
     "data": {
      "text/html": [
       "<div>\n",
       "<style scoped>\n",
       "    .dataframe tbody tr th:only-of-type {\n",
       "        vertical-align: middle;\n",
       "    }\n",
       "\n",
       "    .dataframe tbody tr th {\n",
       "        vertical-align: top;\n",
       "    }\n",
       "\n",
       "    .dataframe thead th {\n",
       "        text-align: right;\n",
       "    }\n",
       "</style>\n",
       "<table border=\"1\" class=\"dataframe\">\n",
       "  <thead>\n",
       "    <tr style=\"text-align: right;\">\n",
       "      <th></th>\n",
       "      <th>pais</th>\n",
       "      <th>media_vacinacao</th>\n",
       "    </tr>\n",
       "  </thead>\n",
       "  <tbody>\n",
       "    <tr>\n",
       "      <th>0</th>\n",
       "      <td>China</td>\n",
       "      <td>6.930368e+06</td>\n",
       "    </tr>\n",
       "    <tr>\n",
       "      <th>1</th>\n",
       "      <td>India</td>\n",
       "      <td>4.175994e+06</td>\n",
       "    </tr>\n",
       "    <tr>\n",
       "      <th>2</th>\n",
       "      <td>United States</td>\n",
       "      <td>1.191727e+06</td>\n",
       "    </tr>\n",
       "    <tr>\n",
       "      <th>3</th>\n",
       "      <td>Brazil</td>\n",
       "      <td>9.435287e+05</td>\n",
       "    </tr>\n",
       "    <tr>\n",
       "      <th>4</th>\n",
       "      <td>Indonesia</td>\n",
       "      <td>8.462893e+05</td>\n",
       "    </tr>\n",
       "    <tr>\n",
       "      <th>...</th>\n",
       "      <td>...</td>\n",
       "      <td>...</td>\n",
       "    </tr>\n",
       "    <tr>\n",
       "      <th>218</th>\n",
       "      <td>Wallis and Futuna</td>\n",
       "      <td>3.388649e+01</td>\n",
       "    </tr>\n",
       "    <tr>\n",
       "      <th>219</th>\n",
       "      <td>Tokelau</td>\n",
       "      <td>1.739823e+01</td>\n",
       "    </tr>\n",
       "    <tr>\n",
       "      <th>220</th>\n",
       "      <td>Niue</td>\n",
       "      <td>1.631698e+01</td>\n",
       "    </tr>\n",
       "    <tr>\n",
       "      <th>221</th>\n",
       "      <td>Montserrat</td>\n",
       "      <td>1.053659e+01</td>\n",
       "    </tr>\n",
       "    <tr>\n",
       "      <th>222</th>\n",
       "      <td>Pitcairn</td>\n",
       "      <td>5.119048e-01</td>\n",
       "    </tr>\n",
       "  </tbody>\n",
       "</table>\n",
       "<p>223 rows × 2 columns</p>\n",
       "</div>"
      ],
      "text/plain": [
       "                  pais  media_vacinacao\n",
       "0                China     6.930368e+06\n",
       "1                India     4.175994e+06\n",
       "2        United States     1.191727e+06\n",
       "3               Brazil     9.435287e+05\n",
       "4            Indonesia     8.462893e+05\n",
       "..                 ...              ...\n",
       "218  Wallis and Futuna     3.388649e+01\n",
       "219            Tokelau     1.739823e+01\n",
       "220               Niue     1.631698e+01\n",
       "221         Montserrat     1.053659e+01\n",
       "222           Pitcairn     5.119048e-01\n",
       "\n",
       "[223 rows x 2 columns]"
      ]
     },
     "execution_count": 27,
     "metadata": {},
     "output_type": "execute_result"
    }
   ],
   "source": [
    "# Renomeando novas colunas de datas\n",
    "# vamos iniciar alterando o nome de algumas colunas\n",
    "\n",
    "media_pais = media_pais.rename(columns={'country': 'pais', 'daily_vaccinations': 'media_vacinacao'})\n",
    "media_pais"
   ]
  },
  {
   "cell_type": "code",
   "execution_count": 29,
   "id": "002a00b5-e2cd-4b5e-bdfb-ade11535271a",
   "metadata": {},
   "outputs": [
    {
     "data": {
      "text/html": [
       "<div>\n",
       "<style scoped>\n",
       "    .dataframe tbody tr th:only-of-type {\n",
       "        vertical-align: middle;\n",
       "    }\n",
       "\n",
       "    .dataframe tbody tr th {\n",
       "        vertical-align: top;\n",
       "    }\n",
       "\n",
       "    .dataframe thead th {\n",
       "        text-align: right;\n",
       "    }\n",
       "</style>\n",
       "<table border=\"1\" class=\"dataframe\">\n",
       "  <thead>\n",
       "    <tr style=\"text-align: right;\">\n",
       "      <th></th>\n",
       "      <th>pais</th>\n",
       "      <th>vacinas_utilizadas</th>\n",
       "    </tr>\n",
       "  </thead>\n",
       "  <tbody>\n",
       "    <tr>\n",
       "      <th>0</th>\n",
       "      <td>Afghanistan</td>\n",
       "      <td>1</td>\n",
       "    </tr>\n",
       "    <tr>\n",
       "      <th>1</th>\n",
       "      <td>Albania</td>\n",
       "      <td>1</td>\n",
       "    </tr>\n",
       "    <tr>\n",
       "      <th>2</th>\n",
       "      <td>Algeria</td>\n",
       "      <td>1</td>\n",
       "    </tr>\n",
       "    <tr>\n",
       "      <th>3</th>\n",
       "      <td>Andorra</td>\n",
       "      <td>1</td>\n",
       "    </tr>\n",
       "    <tr>\n",
       "      <th>4</th>\n",
       "      <td>Angola</td>\n",
       "      <td>1</td>\n",
       "    </tr>\n",
       "  </tbody>\n",
       "</table>\n",
       "</div>"
      ],
      "text/plain": [
       "          pais  vacinas_utilizadas\n",
       "0  Afghanistan                   1\n",
       "1      Albania                   1\n",
       "2      Algeria                   1\n",
       "3      Andorra                   1\n",
       "4       Angola                   1"
      ]
     },
     "execution_count": 29,
     "metadata": {},
     "output_type": "execute_result"
    }
   ],
   "source": [
    "vacinas_pais = vacinas_pais.rename(columns={'country': 'pais', 'vaccines': 'vacinas_utilizadas'})\n",
    "vacinas_pais[:5]"
   ]
  },
  {
   "cell_type": "code",
   "execution_count": 31,
   "id": "63f536b8-cbaa-4bb5-9fb3-cb6fdf16bf45",
   "metadata": {},
   "outputs": [
    {
     "data": {
      "text/html": [
       "<div>\n",
       "<style scoped>\n",
       "    .dataframe tbody tr th:only-of-type {\n",
       "        vertical-align: middle;\n",
       "    }\n",
       "\n",
       "    .dataframe tbody tr th {\n",
       "        vertical-align: top;\n",
       "    }\n",
       "\n",
       "    .dataframe thead th {\n",
       "        text-align: right;\n",
       "    }\n",
       "</style>\n",
       "<table border=\"1\" class=\"dataframe\">\n",
       "  <thead>\n",
       "    <tr style=\"text-align: right;\">\n",
       "      <th></th>\n",
       "      <th>pais</th>\n",
       "      <th>Imunizados</th>\n",
       "    </tr>\n",
       "  </thead>\n",
       "  <tbody>\n",
       "    <tr>\n",
       "      <th>0</th>\n",
       "      <td>China</td>\n",
       "      <td>3.263129e+09</td>\n",
       "    </tr>\n",
       "    <tr>\n",
       "      <th>1</th>\n",
       "      <td>India</td>\n",
       "      <td>1.834501e+09</td>\n",
       "    </tr>\n",
       "    <tr>\n",
       "      <th>2</th>\n",
       "      <td>United States</td>\n",
       "      <td>5.601818e+08</td>\n",
       "    </tr>\n",
       "    <tr>\n",
       "      <th>3</th>\n",
       "      <td>Brazil</td>\n",
       "      <td>4.135596e+08</td>\n",
       "    </tr>\n",
       "    <tr>\n",
       "      <th>4</th>\n",
       "      <td>Indonesia</td>\n",
       "      <td>3.771089e+08</td>\n",
       "    </tr>\n",
       "  </tbody>\n",
       "</table>\n",
       "</div>"
      ],
      "text/plain": [
       "            pais    Imunizados\n",
       "0          China  3.263129e+09\n",
       "1          India  1.834501e+09\n",
       "2  United States  5.601818e+08\n",
       "3         Brazil  4.135596e+08\n",
       "4      Indonesia  3.771089e+08"
      ]
     },
     "execution_count": 31,
     "metadata": {},
     "output_type": "execute_result"
    }
   ],
   "source": [
    "imunizados = imunizados.rename(columns={'country': 'pais', 'total_vaccinations': 'Imunizados'})\n",
    "imunizados[:5]"
   ]
  },
  {
   "cell_type": "markdown",
   "id": "0797a360-af8d-4e2d-9c87-2dccb2512633",
   "metadata": {},
   "source": [
    "# Criando um novo dataset\n",
    "\n",
    "Para criar um novo dataset (Conjunto de dados) vamos utilizar a função merge. Essa função vai comparar os campos das tabelas que são chaves iguais.\n",
    "Como o nome do pais e realizar a junção entre as tabelas. Assim vamos ter todos os dados tratados em uma única tabela."
   ]
  },
  {
   "cell_type": "code",
   "execution_count": 32,
   "id": "ce9ebfa8-e9c1-47aa-aa9b-7df1ec7e9655",
   "metadata": {},
   "outputs": [],
   "source": [
    "dados_tratados = pd.merge(imunizados, media_pais, how='inner')"
   ]
  },
  {
   "cell_type": "code",
   "execution_count": 33,
   "id": "ae933b34-655a-4c84-b50c-9361a16c2480",
   "metadata": {},
   "outputs": [
    {
     "data": {
      "text/html": [
       "<div>\n",
       "<style scoped>\n",
       "    .dataframe tbody tr th:only-of-type {\n",
       "        vertical-align: middle;\n",
       "    }\n",
       "\n",
       "    .dataframe tbody tr th {\n",
       "        vertical-align: top;\n",
       "    }\n",
       "\n",
       "    .dataframe thead th {\n",
       "        text-align: right;\n",
       "    }\n",
       "</style>\n",
       "<table border=\"1\" class=\"dataframe\">\n",
       "  <thead>\n",
       "    <tr style=\"text-align: right;\">\n",
       "      <th></th>\n",
       "      <th>pais</th>\n",
       "      <th>Imunizados</th>\n",
       "      <th>media_vacinacao</th>\n",
       "      <th>vacinas_utilizadas</th>\n",
       "    </tr>\n",
       "  </thead>\n",
       "  <tbody>\n",
       "    <tr>\n",
       "      <th>0</th>\n",
       "      <td>China</td>\n",
       "      <td>3.263129e+09</td>\n",
       "      <td>6.930368e+06</td>\n",
       "      <td>1</td>\n",
       "    </tr>\n",
       "    <tr>\n",
       "      <th>1</th>\n",
       "      <td>India</td>\n",
       "      <td>1.834501e+09</td>\n",
       "      <td>4.175994e+06</td>\n",
       "      <td>1</td>\n",
       "    </tr>\n",
       "    <tr>\n",
       "      <th>2</th>\n",
       "      <td>United States</td>\n",
       "      <td>5.601818e+08</td>\n",
       "      <td>1.191727e+06</td>\n",
       "      <td>1</td>\n",
       "    </tr>\n",
       "    <tr>\n",
       "      <th>3</th>\n",
       "      <td>Brazil</td>\n",
       "      <td>4.135596e+08</td>\n",
       "      <td>9.435287e+05</td>\n",
       "      <td>1</td>\n",
       "    </tr>\n",
       "    <tr>\n",
       "      <th>4</th>\n",
       "      <td>Indonesia</td>\n",
       "      <td>3.771089e+08</td>\n",
       "      <td>8.462893e+05</td>\n",
       "      <td>1</td>\n",
       "    </tr>\n",
       "    <tr>\n",
       "      <th>...</th>\n",
       "      <td>...</td>\n",
       "      <td>...</td>\n",
       "      <td>...</td>\n",
       "      <td>...</td>\n",
       "    </tr>\n",
       "    <tr>\n",
       "      <th>218</th>\n",
       "      <td>Falkland Islands</td>\n",
       "      <td>4.407000e+03</td>\n",
       "      <td>7.474242e+01</td>\n",
       "      <td>1</td>\n",
       "    </tr>\n",
       "    <tr>\n",
       "      <th>219</th>\n",
       "      <td>Montserrat</td>\n",
       "      <td>4.211000e+03</td>\n",
       "      <td>1.053659e+01</td>\n",
       "      <td>1</td>\n",
       "    </tr>\n",
       "    <tr>\n",
       "      <th>220</th>\n",
       "      <td>Niue</td>\n",
       "      <td>4.161000e+03</td>\n",
       "      <td>1.631698e+01</td>\n",
       "      <td>1</td>\n",
       "    </tr>\n",
       "    <tr>\n",
       "      <th>221</th>\n",
       "      <td>Tokelau</td>\n",
       "      <td>1.936000e+03</td>\n",
       "      <td>1.739823e+01</td>\n",
       "      <td>1</td>\n",
       "    </tr>\n",
       "    <tr>\n",
       "      <th>222</th>\n",
       "      <td>Pitcairn</td>\n",
       "      <td>9.400000e+01</td>\n",
       "      <td>5.119048e-01</td>\n",
       "      <td>1</td>\n",
       "    </tr>\n",
       "  </tbody>\n",
       "</table>\n",
       "<p>223 rows × 4 columns</p>\n",
       "</div>"
      ],
      "text/plain": [
       "                 pais    Imunizados  media_vacinacao  vacinas_utilizadas\n",
       "0               China  3.263129e+09     6.930368e+06                   1\n",
       "1               India  1.834501e+09     4.175994e+06                   1\n",
       "2       United States  5.601818e+08     1.191727e+06                   1\n",
       "3              Brazil  4.135596e+08     9.435287e+05                   1\n",
       "4           Indonesia  3.771089e+08     8.462893e+05                   1\n",
       "..                ...           ...              ...                 ...\n",
       "218  Falkland Islands  4.407000e+03     7.474242e+01                   1\n",
       "219        Montserrat  4.211000e+03     1.053659e+01                   1\n",
       "220              Niue  4.161000e+03     1.631698e+01                   1\n",
       "221           Tokelau  1.936000e+03     1.739823e+01                   1\n",
       "222          Pitcairn  9.400000e+01     5.119048e-01                   1\n",
       "\n",
       "[223 rows x 4 columns]"
      ]
     },
     "execution_count": 33,
     "metadata": {},
     "output_type": "execute_result"
    }
   ],
   "source": [
    "dados_tratados = pd.merge(dados_tratados, vacinas_pais)\n",
    "dados_tratados"
   ]
  },
  {
   "cell_type": "markdown",
   "id": "229684b3-a8f2-4c7e-a5eb-dcd3e0e645ee",
   "metadata": {},
   "source": [
    "Podemos também realizar de forma direta conforme o script abaixo: Veja que temos que fazer cada junção de forma separada. Sempre de dentro para fora."
   ]
  },
  {
   "cell_type": "code",
   "execution_count": 34,
   "id": "04010b22-d892-42fa-93c8-34e0ea7f6218",
   "metadata": {},
   "outputs": [
    {
     "data": {
      "text/html": [
       "<div>\n",
       "<style scoped>\n",
       "    .dataframe tbody tr th:only-of-type {\n",
       "        vertical-align: middle;\n",
       "    }\n",
       "\n",
       "    .dataframe tbody tr th {\n",
       "        vertical-align: top;\n",
       "    }\n",
       "\n",
       "    .dataframe thead th {\n",
       "        text-align: right;\n",
       "    }\n",
       "</style>\n",
       "<table border=\"1\" class=\"dataframe\">\n",
       "  <thead>\n",
       "    <tr style=\"text-align: right;\">\n",
       "      <th></th>\n",
       "      <th>pais</th>\n",
       "      <th>Imunizados</th>\n",
       "      <th>media_vacinacao</th>\n",
       "      <th>vacinas_utilizadas</th>\n",
       "    </tr>\n",
       "  </thead>\n",
       "  <tbody>\n",
       "    <tr>\n",
       "      <th>0</th>\n",
       "      <td>China</td>\n",
       "      <td>3.263129e+09</td>\n",
       "      <td>6.930368e+06</td>\n",
       "      <td>1</td>\n",
       "    </tr>\n",
       "    <tr>\n",
       "      <th>1</th>\n",
       "      <td>India</td>\n",
       "      <td>1.834501e+09</td>\n",
       "      <td>4.175994e+06</td>\n",
       "      <td>1</td>\n",
       "    </tr>\n",
       "    <tr>\n",
       "      <th>2</th>\n",
       "      <td>United States</td>\n",
       "      <td>5.601818e+08</td>\n",
       "      <td>1.191727e+06</td>\n",
       "      <td>1</td>\n",
       "    </tr>\n",
       "    <tr>\n",
       "      <th>3</th>\n",
       "      <td>Brazil</td>\n",
       "      <td>4.135596e+08</td>\n",
       "      <td>9.435287e+05</td>\n",
       "      <td>1</td>\n",
       "    </tr>\n",
       "    <tr>\n",
       "      <th>4</th>\n",
       "      <td>Indonesia</td>\n",
       "      <td>3.771089e+08</td>\n",
       "      <td>8.462893e+05</td>\n",
       "      <td>1</td>\n",
       "    </tr>\n",
       "    <tr>\n",
       "      <th>...</th>\n",
       "      <td>...</td>\n",
       "      <td>...</td>\n",
       "      <td>...</td>\n",
       "      <td>...</td>\n",
       "    </tr>\n",
       "    <tr>\n",
       "      <th>218</th>\n",
       "      <td>Falkland Islands</td>\n",
       "      <td>4.407000e+03</td>\n",
       "      <td>7.474242e+01</td>\n",
       "      <td>1</td>\n",
       "    </tr>\n",
       "    <tr>\n",
       "      <th>219</th>\n",
       "      <td>Montserrat</td>\n",
       "      <td>4.211000e+03</td>\n",
       "      <td>1.053659e+01</td>\n",
       "      <td>1</td>\n",
       "    </tr>\n",
       "    <tr>\n",
       "      <th>220</th>\n",
       "      <td>Niue</td>\n",
       "      <td>4.161000e+03</td>\n",
       "      <td>1.631698e+01</td>\n",
       "      <td>1</td>\n",
       "    </tr>\n",
       "    <tr>\n",
       "      <th>221</th>\n",
       "      <td>Tokelau</td>\n",
       "      <td>1.936000e+03</td>\n",
       "      <td>1.739823e+01</td>\n",
       "      <td>1</td>\n",
       "    </tr>\n",
       "    <tr>\n",
       "      <th>222</th>\n",
       "      <td>Pitcairn</td>\n",
       "      <td>9.400000e+01</td>\n",
       "      <td>5.119048e-01</td>\n",
       "      <td>1</td>\n",
       "    </tr>\n",
       "  </tbody>\n",
       "</table>\n",
       "<p>223 rows × 4 columns</p>\n",
       "</div>"
      ],
      "text/plain": [
       "                 pais    Imunizados  media_vacinacao  vacinas_utilizadas\n",
       "0               China  3.263129e+09     6.930368e+06                   1\n",
       "1               India  1.834501e+09     4.175994e+06                   1\n",
       "2       United States  5.601818e+08     1.191727e+06                   1\n",
       "3              Brazil  4.135596e+08     9.435287e+05                   1\n",
       "4           Indonesia  3.771089e+08     8.462893e+05                   1\n",
       "..                ...           ...              ...                 ...\n",
       "218  Falkland Islands  4.407000e+03     7.474242e+01                   1\n",
       "219        Montserrat  4.211000e+03     1.053659e+01                   1\n",
       "220              Niue  4.161000e+03     1.631698e+01                   1\n",
       "221           Tokelau  1.936000e+03     1.739823e+01                   1\n",
       "222          Pitcairn  9.400000e+01     5.119048e-01                   1\n",
       "\n",
       "[223 rows x 4 columns]"
      ]
     },
     "execution_count": 34,
     "metadata": {},
     "output_type": "execute_result"
    }
   ],
   "source": [
    "pd.merge(pd.merge(imunizados, media_pais), vacinas_pais)"
   ]
  },
  {
   "cell_type": "markdown",
   "id": "188aeeba-ec26-4c7f-b843-04705cf5e3f3",
   "metadata": {},
   "source": [
    "# Exportando dados tratados"
   ]
  },
  {
   "cell_type": "code",
   "execution_count": 37,
   "id": "518403d1-74ea-48f6-9184-a44c346ac9f4",
   "metadata": {},
   "outputs": [],
   "source": [
    "# Exportação de dados em CSV\n",
    "dados_tratados.to_csv('estatisticas_pais.csv', index=True, sep=';')"
   ]
  },
  {
   "cell_type": "code",
   "execution_count": 38,
   "id": "4cc5c43e-cd8f-406c-b6e1-923edd16b40d",
   "metadata": {},
   "outputs": [],
   "source": [
    "# Exportação de dados em JSON\n",
    "dados_tratados.to_json('estatistica.json', orient = 'records')"
   ]
  },
  {
   "cell_type": "code",
   "execution_count": null,
   "id": "18a8c540-c766-4272-86f3-df989381fd9d",
   "metadata": {},
   "outputs": [],
   "source": []
  }
 ],
 "metadata": {
  "kernelspec": {
   "display_name": "coleta_dados_estruturados",
   "language": "python",
   "name": "coleta_dados_estruturados"
  },
  "language_info": {
   "codemirror_mode": {
    "name": "ipython",
    "version": 3
   },
   "file_extension": ".py",
   "mimetype": "text/x-python",
   "name": "python",
   "nbconvert_exporter": "python",
   "pygments_lexer": "ipython3",
   "version": "3.11.4"
  }
 },
 "nbformat": 4,
 "nbformat_minor": 5
}
