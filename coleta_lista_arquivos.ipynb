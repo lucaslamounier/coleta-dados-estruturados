{
 "cells": [
  {
   "cell_type": "markdown",
   "id": "c64ca2b2-5762-4740-93da-18585ae7693c",
   "metadata": {},
   "source": [
    "# Coleta de dados estruturados em lista de arquivos\n",
    "\n",
    "Nesse exercicio prático, vamos coletar os dados através de vários arquivos separados por data. O dataset utilizado é um conjunto de dados ficticios que ilustra vendas de veiculos nos 3 últimos meses.\n",
    "\n",
    "A prática consiste em coletar todos os dados em cada arquivo e adiciona-los em um dataframe do pandas e em seguida analisar e persistir os dados em um arquivo de texto e em tabelas no banco de dados."
   ]
  },
  {
   "cell_type": "code",
   "execution_count": 1,
   "id": "9d0216a4-ebaa-4e9d-9270-393ed3abde56",
   "metadata": {},
   "outputs": [],
   "source": [
    "# Vamos importar as bibliotecas que vamos utilizar para essa prática\n",
    "import pandas as pd\n",
    "import os"
   ]
  },
  {
   "cell_type": "markdown",
   "id": "09861544-efda-49fa-8aa4-0d9acb953646",
   "metadata": {},
   "source": [
    "Vamos atribuir a variável o caminho no qual está armazenado os arquivos com as vendas dos veículos"
   ]
  },
  {
   "cell_type": "code",
   "execution_count": 2,
   "id": "317b11be-62ba-4c72-b838-bd29dcd13165",
   "metadata": {},
   "outputs": [],
   "source": [
    "DIRETORIO = 'C:\\\\workspace\\\\workspace-xpe\\\\Projetos\\\\coleta_dados_estruturados\\\\datasets\\\\vendas_veiculos'"
   ]
  },
  {
   "cell_type": "markdown",
   "id": "49645cfe-aeec-4fc4-9e83-584ce487b88c",
   "metadata": {},
   "source": [
    "Agora vamos criar uma lista com todos os arquivos que estão armazenados no diretório.\n",
    "\n",
    "o método listdir retorna uma lista contendo os nomes das entradas no diretório fornecido por path."
   ]
  },
  {
   "cell_type": "code",
   "execution_count": 7,
   "id": "bc2ad07a-8291-4111-a689-4c32607c58c0",
   "metadata": {},
   "outputs": [],
   "source": [
    "list_df = []\n",
    "list_path = os.listdir(DIRETORIO)"
   ]
  },
  {
   "cell_type": "code",
   "execution_count": 8,
   "id": "88d0f421-891b-47d7-8625-4bf15acd80c3",
   "metadata": {},
   "outputs": [
    {
     "data": {
      "text/plain": [
       "['2020-01-01.csv',\n",
       " '2020-01-02.csv',\n",
       " '2020-01-03.csv',\n",
       " '2020-01-04.csv',\n",
       " '2020-01-05.csv']"
      ]
     },
     "execution_count": 8,
     "metadata": {},
     "output_type": "execute_result"
    }
   ],
   "source": [
    "list_path[:5]"
   ]
  },
  {
   "cell_type": "markdown",
   "id": "2a673919-b03b-4868-898d-8ae13fbce18a",
   "metadata": {},
   "source": [
    "Ótimo! Agora temos todos os nomes dos arquivos que estão dentro do diretório. Agora vamos abrir cada arquivo e coletar os seus dados."
   ]
  },
  {
   "cell_type": "code",
   "execution_count": 9,
   "id": "be0608c0-4e1f-49c6-8b18-429e3b0f5a23",
   "metadata": {},
   "outputs": [],
   "source": [
    "list_df = []\n",
    "for arquivo in list_path:\n",
    "    local_arquivo = os.path.join(DIRETORIO, arquivo)\n",
    "    df = pd.read_csv(local_arquivo, sep = ';', encoding='latin-1')\n",
    "    list_df.append(df)\n",
    "df_vendas = pd.concat(list_df)"
   ]
  },
  {
   "cell_type": "code",
   "execution_count": 10,
   "id": "a82dd594-dc8a-4256-b86e-940aa0bfb09e",
   "metadata": {},
   "outputs": [
    {
     "data": {
      "text/html": [
       "<div>\n",
       "<style scoped>\n",
       "    .dataframe tbody tr th:only-of-type {\n",
       "        vertical-align: middle;\n",
       "    }\n",
       "\n",
       "    .dataframe tbody tr th {\n",
       "        vertical-align: top;\n",
       "    }\n",
       "\n",
       "    .dataframe thead th {\n",
       "        text-align: right;\n",
       "    }\n",
       "</style>\n",
       "<table border=\"1\" class=\"dataframe\">\n",
       "  <thead>\n",
       "    <tr style=\"text-align: right;\">\n",
       "      <th></th>\n",
       "      <th>cod_pessoa|data_coleta|genero|data_nascimento|animal_estimacao|clima|bebida_favorita|hobbies</th>\n",
       "    </tr>\n",
       "  </thead>\n",
       "  <tbody>\n",
       "    <tr>\n",
       "      <th>0</th>\n",
       "      <td>10141743|2020-01-01|Masculino|1981-04-25|peixe...</td>\n",
       "    </tr>\n",
       "    <tr>\n",
       "      <th>1</th>\n",
       "      <td>10141860|2020-01-01|Feminino|1966-01-19|peixe|...</td>\n",
       "    </tr>\n",
       "    <tr>\n",
       "      <th>2</th>\n",
       "      <td>10142548|2020-01-01|Masculino|1973-08-02|tarta...</td>\n",
       "    </tr>\n",
       "    <tr>\n",
       "      <th>3</th>\n",
       "      <td>10142591|2020-01-01|Masculino|1997-03-05|gato|...</td>\n",
       "    </tr>\n",
       "    <tr>\n",
       "      <th>4</th>\n",
       "      <td>10142654|2020-01-01|Feminino|1969-08-05|tartar...</td>\n",
       "    </tr>\n",
       "    <tr>\n",
       "      <th>0</th>\n",
       "      <td>10141523|2020-01-02|Feminino|1998-09-24|gato|q...</td>\n",
       "    </tr>\n",
       "    <tr>\n",
       "      <th>1</th>\n",
       "      <td>10141996|2020-01-02|Feminino|1973-03-13|tartar...</td>\n",
       "    </tr>\n",
       "    <tr>\n",
       "      <th>2</th>\n",
       "      <td>10142089|2020-01-02|Feminino|1970-03-23|gato|m...</td>\n",
       "    </tr>\n",
       "    <tr>\n",
       "      <th>3</th>\n",
       "      <td>10142145|2020-01-02|Masculino|1998-08-01|peixe...</td>\n",
       "    </tr>\n",
       "    <tr>\n",
       "      <th>4</th>\n",
       "      <td>10142520|2020-01-02|Masculino|1994-05-09|peixe...</td>\n",
       "    </tr>\n",
       "  </tbody>\n",
       "</table>\n",
       "</div>"
      ],
      "text/plain": [
       "  cod_pessoa|data_coleta|genero|data_nascimento|animal_estimacao|clima|bebida_favorita|hobbies\n",
       "0  10141743|2020-01-01|Masculino|1981-04-25|peixe...                                          \n",
       "1  10141860|2020-01-01|Feminino|1966-01-19|peixe|...                                          \n",
       "2  10142548|2020-01-01|Masculino|1973-08-02|tarta...                                          \n",
       "3  10142591|2020-01-01|Masculino|1997-03-05|gato|...                                          \n",
       "4  10142654|2020-01-01|Feminino|1969-08-05|tartar...                                          \n",
       "0  10141523|2020-01-02|Feminino|1998-09-24|gato|q...                                          \n",
       "1  10141996|2020-01-02|Feminino|1973-03-13|tartar...                                          \n",
       "2  10142089|2020-01-02|Feminino|1970-03-23|gato|m...                                          \n",
       "3  10142145|2020-01-02|Masculino|1998-08-01|peixe...                                          \n",
       "4  10142520|2020-01-02|Masculino|1994-05-09|peixe...                                          "
      ]
     },
     "execution_count": 10,
     "metadata": {},
     "output_type": "execute_result"
    }
   ],
   "source": [
    "df_vendas[:10]"
   ]
  },
  {
   "cell_type": "markdown",
   "id": "70d99b81-8875-4fa5-baff-c0fdd9db99d7",
   "metadata": {},
   "source": [
    "# Exportando dados para arquivos"
   ]
  },
  {
   "cell_type": "markdown",
   "id": "7a9436ce-71bf-4a71-b19d-3b6780356db7",
   "metadata": {},
   "source": [
    "Agora que ja temos todos os arquivos do diretório, vamos exporta-los apenas para um arquivo único."
   ]
  },
  {
   "cell_type": "code",
   "execution_count": 11,
   "id": "20217321-fcd2-4b21-99ec-90c7a322c4a0",
   "metadata": {},
   "outputs": [],
   "source": [
    "df_vendas.to_csv(DIRETORIO + 'vendas_por_data.csv', sep = ';', encoding='latin-1', index=False)"
   ]
  },
  {
   "cell_type": "code",
   "execution_count": null,
   "id": "3d8481fc-e9b4-40ce-9191-97dbeec26f8a",
   "metadata": {},
   "outputs": [],
   "source": []
  }
 ],
 "metadata": {
  "kernelspec": {
   "display_name": "Python 3 (ipykernel)",
   "language": "python",
   "name": "python3"
  },
  "language_info": {
   "codemirror_mode": {
    "name": "ipython",
    "version": 3
   },
   "file_extension": ".py",
   "mimetype": "text/x-python",
   "name": "python",
   "nbconvert_exporter": "python",
   "pygments_lexer": "ipython3",
   "version": "3.11.4"
  }
 },
 "nbformat": 4,
 "nbformat_minor": 5
}
